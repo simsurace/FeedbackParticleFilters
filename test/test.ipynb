{
 "cells": [
  {
   "cell_type": "code",
   "execution_count": 7,
   "metadata": {},
   "outputs": [],
   "source": [
    "using Test"
   ]
  },
  {
   "cell_type": "code",
   "execution_count": 25,
   "metadata": {},
   "outputs": [],
   "source": [
    "using FeedbackParticleFilters, Distributions, Random, PDMats, LinearAlgebra, Statistics"
   ]
  },
  {
   "cell_type": "code",
   "execution_count": 3,
   "metadata": {},
   "outputs": [
    {
     "data": {
      "text/plain": [
       "Diffusion process model for the hidden state\n",
       "    type of hidden state:                   3-dimensional vector\n",
       "    number of independent Brownian motions: 2\n",
       "    initial condition:                      random"
      ]
     },
     "execution_count": 3,
     "metadata": {},
     "output_type": "execute_result"
    }
   ],
   "source": [
    "f(x::AbstractVector) = [x[1]*x[2], x[1]-x[3], x[1]+x[2]*x[3]]\n",
    "g(x::AbstractVector) = [x[1] x[2]; x[2] x[3]; 0. 1.]\n",
    "init                 = MvNormal(3, 1.)\n",
    "\n",
    "mod = DiffusionStateModel(f, g, init)"
   ]
  },
  {
   "cell_type": "code",
   "execution_count": 8,
   "metadata": {},
   "outputs": [
    {
     "data": {
      "text/plain": [
       "\u001b[32m\u001b[1mTest Passed\u001b[22m\u001b[39m"
      ]
     },
     "execution_count": 8,
     "metadata": {},
     "output_type": "execute_result"
    }
   ],
   "source": [
    "@test mod isa DiffusionStateModel{Float64,typeof(f),typeof(g),MvNormal{Float64,PDMats.ScalMat{Float64},Distributions.ZeroVector{Float64}}}"
   ]
  },
  {
   "cell_type": "code",
   "execution_count": 11,
   "metadata": {},
   "outputs": [
    {
     "data": {
      "text/plain": [
       "Poisson equation for the gain\n",
       "    # of particles:        6\n",
       "    hidden dimension:      1\n",
       "    observed dimension:    2"
      ]
     },
     "execution_count": 11,
     "metadata": {},
     "output_type": "execute_result"
    }
   ],
   "source": [
    "N = 6\n",
    "    x_pf=[-2.422480820086937 -0.592332203303167 -2.017301296096984 -1.5151245392598531 0.02565906919199346 0.15161614796874012;]\n",
    "    testens=UnweightedParticleEnsemble(x_pf)\n",
    "    eq = PoissonEquation(x->[x[1],exp(x[1])], testens)"
   ]
  },
  {
   "cell_type": "code",
   "execution_count": 15,
   "metadata": {},
   "outputs": [
    {
     "data": {
      "text/plain": [
       "Poisson equation for the gain\n",
       "    # of particles:        6\n",
       "    hidden dimension:      1\n",
       "    observed dimension:    2"
      ]
     },
     "execution_count": 15,
     "metadata": {},
     "output_type": "execute_result"
    }
   ],
   "source": [
    " update!(eq, testens)"
   ]
  },
  {
   "cell_type": "code",
   "execution_count": 16,
   "metadata": {},
   "outputs": [
    {
     "data": {
      "text/plain": [
       "1×6×2 Array{Float64,3}:\n",
       "[:, :, 1] =\n",
       " 0.0  0.0  0.0  0.0  0.0  0.0\n",
       "\n",
       "[:, :, 2] =\n",
       " 0.0  0.0  0.0  0.0  0.0  0.0"
      ]
     },
     "execution_count": 16,
     "metadata": {},
     "output_type": "execute_result"
    }
   ],
   "source": [
    "eq.gain"
   ]
  },
  {
   "cell_type": "code",
   "execution_count": 26,
   "metadata": {},
   "outputs": [
    {
     "data": {
      "text/plain": [
       "solve2! (generic function with 1 method)"
      ]
     },
     "execution_count": 26,
     "metadata": {},
     "output_type": "execute_result"
    }
   ],
   "source": [
    "# Helper functions for DifferentialRKHSMethod\n",
    "function DifferentialRKHS_MakeMatrices(vec::AbstractVector, eps::Number)\n",
    "    # constructs kernel matrices for DifferentialRKHSMethod\n",
    "    L = length(vec)\n",
    "    eps1 = 2*eps\n",
    "    eps2 = eps^2\n",
    "\n",
    "    mat = zeros(Float64, L, L, 3)\n",
    "\n",
    "    @inbounds @simd for i in 1:L\n",
    "                mat[i,i,1] = 1\n",
    "                mat[i,i,3] = 1/eps\n",
    "                @simd for j in i+1:L\n",
    "                    diff = vec[j] - vec[i]\n",
    "                    sq   = diff*diff\n",
    "                    K    = exp(-sq/eps1)\n",
    "                    Kx   = diff*K/eps\n",
    "                    Kxy  = (eps - sq) * K / eps2\n",
    "                    mat[i,j,1] = mat[j,i,1] = K\n",
    "                    mat[i,j,2] = Kx\n",
    "                    mat[j,i,2] = -Kx\n",
    "                    mat[i,j,3] = mat[j,i,3] = Kxy\n",
    "                end\n",
    "    end\n",
    "\n",
    "    return view(mat, :, :, 1), view(mat, :, :, 2), view(mat, :, :, 3)\n",
    "end\n",
    "\n",
    "\n",
    "\n",
    "function DifferentialRKHS_M_and_b!(A::AbstractMatrix, B::AbstractMatrix, C::AbstractMatrix, v::AbstractMatrix, lamb::Number)\n",
    "    # constructs matrix M and vector b for DifferentialRKHSMethod\n",
    "    L = size(A,1)\n",
    "    m = size(v,2)\n",
    "\n",
    "    b = zeros(Float64, 2*L, m)\n",
    "    LinearAlgebra.mul!(view(b,   1:L  , :), A, v)\n",
    "    LinearAlgebra.mul!(view(b, L+1:2*L, :), B, v)\n",
    "\n",
    "\n",
    "    B2 = B*B\n",
    "    BC = B*C\n",
    "    C2 = C*C\n",
    "    LinearAlgebra.lmul!(lamb, A)\n",
    "    LinearAlgebra.lmul!(lamb, B)\n",
    "    LinearAlgebra.lmul!(lamb, C)\n",
    "\n",
    "    M = zeros(Float64, 2*L, 2*L)\n",
    "    @simd for j in 1:L\n",
    "        @simd for i in 1:L\n",
    "            @inbounds M[i  ,j  ] =  A[i,j] - B2[i,j]\n",
    "            @inbounds M[i+L,j  ] =  B[i,j] + BC[j,i]\n",
    "            @inbounds M[i  ,j+L] = -B[i,j] - BC[i,j]\n",
    "            @inbounds M[i+L,j+L] =  C[i,j] + C2[i,j]\n",
    "        end\n",
    "    end\n",
    "\n",
    "    return M, b\n",
    "end\n",
    "function solve2!(eq::PoissonEquation, method::DifferentialRKHSMethod)\n",
    "    eps  = method.epsilon\n",
    "    N    = no_of_particles(eq)\n",
    "    lamb = N * method.lambda\n",
    "\n",
    "    H = Htilde(eq)\n",
    "\n",
    "    # Gaussian kernel and partial derivative matrices\n",
    "    K, Kx, Kxy = DifferentialRKHS_MakeMatrices(eq.positions[1,:], eps)\n",
    "\n",
    "    # compute M and b\n",
    "    M, b = DifferentialRKHS_M_and_b!(K, Kx, Kxy, H', lamb) # warning: this function multiplies K, Kx, and Kxy by lamb\n",
    "\n",
    "    # solve linear system\n",
    "    beta = M \\ b\n",
    "\n",
    "    # write potential and gain\n",
    "    eq.potential  .= ( K*view(beta, 1:N) - Kx*view(beta, N+1:2*N) )' / lamb\n",
    "    broadcast!(-, eq.potential, eq.potential, Statistics.mean(eq.potential, dims=2))\n",
    "    eq.gain[1,:,:] = ( Kx * view(beta, 1:N, :) + Kxy * view(beta, N+1:2*N, :) ) / lamb\n",
    "end"
   ]
  },
  {
   "cell_type": "code",
   "execution_count": 27,
   "metadata": {},
   "outputs": [],
   "source": [
    "solve2!(eq, DifferentialRKHSMethod(1E1, 1E-6));"
   ]
  },
  {
   "cell_type": "code",
   "execution_count": 1,
   "metadata": {},
   "outputs": [],
   "source": [
    "function Map(f::T, A::AbstractArray) where T<:Function \n",
    "    map(f, A)\n",
    "end\n",
    "function Map(F::NTuple{N, Function}, x::T) where {N, T<:Number} \n",
    "    [f(x) for f in F]\n",
    "end;\n",
    "function Map(F::AbstractArray{Function}, x::T) where {N, T<:Number} \n",
    "    [f(x) for f in F]\n",
    "end;\n",
    "function Map(F::AbstractArray{U}, x::T) where {N, T<:Number, U<:Function}\n",
    "    [f(x) for f in F]\n",
    "end;\n",
    "function Map(F::NTuple{N, Function}, A::AbstractArray; output_shape=2) where N\n",
    "    if output_shape == 1 \n",
    "        try\n",
    "            collect(Map.(F, Ref(A)))\n",
    "        catch\n",
    "            error(\"ERROR: functions cannot be applied at first level. Call with output_shape=2.\")\n",
    "        end\n",
    "    elseif output_shape == 2\n",
    "        try\n",
    "            [f(A) for f in F]\n",
    "        catch\n",
    "            collect(Map.(Ref(F), A))\n",
    "        end\n",
    "    else\n",
    "        error(\"ERROR: Invalid output_shape parameter. Must be either 1 or 2.\") \n",
    "    end\n",
    "end;\n",
    "function Map(F::AbstractArray{T}, A::AbstractArray; output_shape=2) where {N, T<:Function}\n",
    "    if output_shape == 1 \n",
    "        try\n",
    "            collect(Map.(F, Ref(A)))\n",
    "        catch\n",
    "            error(\"ERROR: functions cannot be applied at first level. Call with output_shape=2.\")\n",
    "        end\n",
    "    elseif output_shape == 2\n",
    "        try\n",
    "            [f(A) for f in F]\n",
    "        catch\n",
    "            collect(Map.(Ref(F), A))\n",
    "        end\n",
    "    else\n",
    "        error(\"ERROR: Invalid output_shape parameter. Must be either 1 or 2.\") \n",
    "    end\n",
    "end;"
   ]
  },
  {
   "cell_type": "code",
   "execution_count": 2,
   "metadata": {},
   "outputs": [],
   "source": [
    "f(x::Float64) = x\n",
    "g(x::Float64) = x^2\n",
    "h(x::Float64) = x^3;"
   ]
  },
  {
   "cell_type": "code",
   "execution_count": 42,
   "metadata": {},
   "outputs": [
    {
     "data": {
      "text/plain": [
       "true"
      ]
     },
     "execution_count": 42,
     "metadata": {},
     "output_type": "execute_result"
    }
   ],
   "source": [
    "Map((f,g,h), [[1.,2.],[3.,4.]], output_shape=2) == [[[1.0, 1.0, 1.0], [2.0, 4.0, 8.0]], [[3.0, 9.0, 27.0], [4.0, 16.0, 64.0]]]"
   ]
  },
  {
   "cell_type": "code",
   "execution_count": 46,
   "metadata": {},
   "outputs": [],
   "source": [
    "ff(x::Array{Float64,1}) = x[1]*x[2]\n",
    "gg(x::Array{Float64,1}) = x[1]+x[2]\n",
    "hh(x::Array{Float64,1}) = x[1]-x[2];"
   ]
  },
  {
   "cell_type": "code",
   "execution_count": 52,
   "metadata": {},
   "outputs": [
    {
     "data": {
      "text/plain": [
       "true"
      ]
     },
     "execution_count": 52,
     "metadata": {},
     "output_type": "execute_result"
    }
   ],
   "source": [
    "Map((ff,gg,hh), [[1.,2.],[3.,4.]], output_shape=2) == [[2.0, 3.0, -1.0], [12.0, 7.0, -1.0]]"
   ]
  },
  {
   "cell_type": "code",
   "execution_count": null,
   "metadata": {},
   "outputs": [],
   "source": []
  }
 ],
 "metadata": {
  "kernelspec": {
   "display_name": "Julia 1.3.1",
   "language": "julia",
   "name": "julia-1.3"
  },
  "language_info": {
   "file_extension": ".jl",
   "mimetype": "application/julia",
   "name": "julia",
   "version": "1.3.1"
  }
 },
 "nbformat": 4,
 "nbformat_minor": 2
}
